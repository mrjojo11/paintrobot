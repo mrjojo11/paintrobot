{
 "cells": [
  {
   "cell_type": "code",
   "execution_count": null,
   "metadata": {
    "scrolled": true
   },
   "outputs": [],
   "source": [
    "# the Free Software Foundation, either version 3 of the License, or\n",
    "# (at your option) any later version.\n",
    "#\n",
    "# This program is distributed in the hope that it will be useful,\n",
    "# but WITHOUT ANY WARRANTY; without even the implied warranty of\n",
    "# MERCHANTABILITY or FITNESS FOR A PARTICULAR PURPOSE.  See the\n",
    "# GNU General Public License for more details.\n",
    "#\n",
    "# You should have received a copy of the GNU General Public License\n",
    "# along with this program.  If not, see <http://www.gnu.org/licenses/>.\n",
    "\n",
    "import numpy as np\n",
    "import math3d as m3d\n",
    "import math\n",
    "import sys\n",
    "import urx\n",
    "from time import sleep\n",
    "from svgpathtools import svg2paths, Arc, Line, QuadraticBezier, CubicBezier"
   ]
  },
  {
   "cell_type": "code",
   "execution_count": null,
   "metadata": {
    "scrolled": true
   },
   "outputs": [],
   "source": [
    "np.set_printoptions(precision=3)\n",
    "r = urx.Robot(\"192.168.0.2\", use_rt=True)\n",
    "r.set_tcp((0, 0, 0.15, 0, 0, 0)) # set dummy TCP, 15 cm in front of the flange\n",
    "r.set_payload(0.1) # set tool payload (in kg)\n",
    "sleep(0.2)"
   ]
  },
  {
   "cell_type": "code",
   "execution_count": null,
   "metadata": {},
   "outputs": [],
   "source": [
    "a = 0.1 # max acceleration (in m/s^2)\n",
    "v = 0.2 # max velocity (in m/s)\n",
    "hover = 0.02 # hover height above the canvas while not painting (in m)\n",
    "feed = 0.001 # brush feed while painting in m/m #default was 0.006\n",
    "offset = 0.003 # initial brush feed when starting to paint in m \n",
    "\n",
    "paint_depth = 0.100     # depth of paint surface from the paint pot coordinate (in m) \n",
    "in_paint_duration = 0.5 # duration for brush in paint pot (in s)\n",
    "drip_off_duration = 1   # duration to stay over paint pot (in s)\n",
    "\n",
    "r.set_csys(m3d.Transform()) #set the active coordinate system(csys) for the robot to the base csys"
   ]
  },
  {
   "cell_type": "code",
   "execution_count": null,
   "metadata": {},
   "outputs": [],
   "source": [
    "# Define Joint angles for important positions:\n",
    "# Make sure that a free path exists between any of those!\n",
    "j_home         = ( 0    , -math.pi/2,  0, -math.pi/2, 0, 0)\n",
    "j_paint_above  = (-1.257, -1.332, -2.315, -1.065, 1.571,  0.313)\n",
    "j_canvas_above = (-0.671, -1.464, -1.975,  0.026, 2.302, -0.169)\n",
    "j_brush_change = (0.0, -0.725, -2.153, -1.570, 0, 0)"
   ]
  },
  {
   "cell_type": "code",
   "execution_count": null,
   "metadata": {},
   "outputs": [],
   "source": [
    "# Defining TCP transform for each brush in the tool\n",
    "brush = {\"red\":    (0.0903, 0.003, 0.1275, 0.1418, 0.5067, 0.6670),\n",
    "         \"yellow\": (0.0903, 0.003, 0.1275, 0.1418, 0.5067, 0.6670),\n",
    "         \"blue\":   (0.0903, 0.003, 0.1275, 0.1418, 0.5067, 0.6670),\n",
    "         \"black\":  (0.0903, 0.003, 0.1275, 0.1418, 0.5067, 0.6670),\n",
    "         \"green\":  (0.0903, 0.003, 0.1275, 0.1418, 0.5067, 0.6670),\n",
    "         \"white\":  (0.0903, 0.003, 0.1275, 0.1418, 0.5067, 0.6670),\n",
    "         \"brown\":  (0.0903, 0.003, 0.1275, 0.1418, 0.5067, 0.6670)\n",
    "        }"
   ]
  },
  {
   "cell_type": "code",
   "execution_count": null,
   "metadata": {},
   "outputs": [],
   "source": [
    "# Canvas coordinates (base csys):\n",
    "# p0 ---------> px\n",
    "# |\n",
    "# |\n",
    "# py                   \n",
    "\n",
    "p0 = m3d.Transform(( 0.551,  0.224,  0.697, 2.511, -2.478, 2.063))\n",
    "px = m3d.Transform(( 0.559, -0.498,  0.697, 2.511, -2.478, 2.063))\n",
    "py = m3d.Transform(( 0.447, 0.229, 0.137, 2.511, -2.478, 2.063))\n",
    "\n",
    "dx = px.pos - p0.pos\n",
    "dy = py.pos - p0.pos\n",
    "canvas_coordinates = m3d.Transform.new_from_xyp(dx, dy, p0.pos)\n",
    "\n",
    "# A satisfying test\n",
    "# r.set_tcp(brush['black'])\n",
    "# r.movel(p0, acc = a/2, vel=v/3)\n",
    "# r.movel(px, acc = a/2, vel=v/3)\n",
    "# r.movel(py, acc = a/2, vel=v/3)\n",
    "# r.movel(p0, acc = a/2, vel=v/3)\n"
   ]
  },
  {
   "cell_type": "code",
   "execution_count": null,
   "metadata": {},
   "outputs": [],
   "source": [
    "# Paint pot coordinates:\n",
    "paint = {\"red\":    (-0.12, -0.280, 0.08, 0, np.pi, 0),\n",
    "         \"yellow\": (-0.04, -0.280, 0.08, 0, np.pi, 0),\n",
    "         \"blue\":   ( 0.04, -0.280, 0.08, 0, np.pi, 0),\n",
    "         \"black\":  ( 0.12, -0.285, 0.08, 0, np.pi, 0)}"
   ]
  },
  {
   "cell_type": "code",
   "execution_count": null,
   "metadata": {},
   "outputs": [],
   "source": [
    "# Paint drop removal coordinates:\n",
    "mesh  = {\"red\":    m3d.Vector(-0.12, -0.40, 0.057),\n",
    "         \"yellow\": m3d.Vector(-0.04, -0.40, 0.055),\n",
    "         \"blue\":   m3d.Vector( 0.04, -0.40, 0.054),\n",
    "         \"black\":  m3d.Vector( 0.12, -0.40, 0.053)}"
   ]
  },
  {
   "cell_type": "code",
   "execution_count": null,
   "metadata": {},
   "outputs": [],
   "source": [
    "def brush_transform(index, angle, length):\n",
    "    rot = m3d.Orientation.new_rot_z(index * np.pi / 2)\n",
    "    rot.rotate_x(angle)\n",
    "    vec = m3d.Transform(rot, (0, 0, 0)) * m3d.Vector(0, 0, length)\n",
    "    return m3d.Transform(rot, vec)"
   ]
  },
  {
   "cell_type": "code",
   "execution_count": null,
   "metadata": {},
   "outputs": [],
   "source": [
    "# Brush calibration parameters\n",
    "# Old brush holder    \n",
    "#brush = {\"red\":    brush_transform(-1, 24 * np.pi / 180, 0.148),\n",
    "#         \"yellow\": brush_transform( 0, 19 * np.pi / 180, 0.145),\n",
    "#         \"blue\":   brush_transform( 1, 20 * np.pi / 180, 0.145),\n",
    "#         \"black\":  brush_transform( 2, 24 * np.pi / 180, 0.147)}\n",
    "# New brush holder\n",
    "#brush = {\"red\":    brush_transform(-1, 32 * np.pi / 180, 0.144),\n",
    "#         \"yellow\": brush_transform( 0, 33 * np.pi / 180, 0.148),\n",
    "#         \"blue\":   brush_transform( 1, 30 * np.pi / 180, 0.144),\n",
    "#         \"black\":  brush_transform( 2, 31 * np.pi / 180, 0.144)}\n",
    "\n",
    "# Medium size brush holder\n",
    "#brush = {\"red\":    brush_transform(-1, 25 * np.pi / 180, 0.140),\n",
    "#         \"yellow\": brush_transform( 0, 25 * np.pi / 180, 0.140),\n",
    "#         \"blue\":   brush_transform( 1, 26 * np.pi / 180, 0.140),\n",
    "#         \"black\":  brush_transform( 2, 25 * np.pi / 180, 0.140)}\n",
    "\n",
    "# Small size brush holder\n",
    "brush = {\"red\":    brush_transform(-0.935, 28.0 * np.pi / 180, 0.140),\n",
    "         \"yellow\": brush_transform( 0.09, 27 * np.pi / 180, 0.138),\n",
    "         \"blue\":   brush_transform( 1, 29 * np.pi / 180, 0.139),\n",
    "         \"black\":  brush_transform( 2.1, 29 * np.pi / 180, 0.139)}\n",
    "#%%"
   ]
  },
  {
   "cell_type": "code",
   "execution_count": null,
   "metadata": {},
   "outputs": [],
   "source": [
    "#p = r.getl()\n",
    "#print \"Start tool pose is: \", np.array(p)\n",
    "#print \"Joint space: \", np.array(r.getj()) * 180 / math.pi\n",
    "\n",
    "#print \"Move to home\"\n",
    "#r.movej(j_home, acc=1.0, vel=v)\n"
   ]
  },
  {
   "cell_type": "code",
   "execution_count": null,
   "metadata": {},
   "outputs": [],
   "source": [
    "def move_home():\n",
    "    \"\"\"A wrapper function to move the robot to the j_home joints configuration\"\"\"\n",
    "    print \"Moving to home position\"\n",
    "    r.movej(j_home, acc=1.0, vel=v)\n",
    "\n",
    "#move_home()  #uncomment and run cell to test the functions defined in this cell"
   ]
  },
  {
   "cell_type": "code",
   "execution_count": null,
   "metadata": {},
   "outputs": [],
   "source": [
    "def move_to_canvas():\n",
    "    \"\"\"A wrapper function to move the robot to the j_canvas_above joints configuration\"\"\"\n",
    "    print \"Moving to above canvas position\"\n",
    "    j = r.getj() # Keep orientation of last joint\n",
    "    r.movej(j_canvas_above[:5] + (j[5],), acc=a, vel=v)\n",
    "    \n",
    "#move_to_canvas()  #uncomment and run cell to test the functions defined in this cell"
   ]
  },
  {
   "cell_type": "code",
   "execution_count": null,
   "metadata": {},
   "outputs": [],
   "source": [
    "def move_to_paint():\n",
    "    \"\"\"A wrapper function to move the robot to the j_paint_above joints configuration\"\"\"\n",
    "    print \"Moving to above paint position\"\n",
    "    r.movej(j_paint_above, acc=a, vel=v)\n",
    "    #j = r.getj() # Keep orientation of last joint\n",
    "    #r.movej(j_paint_above[:5] + (j[5],), acc=a, vel=v)\n",
    "    \n",
    "#move_to_paint()    #uncomment and run cell to test the functions defined in this cell"
   ]
  },
  {
   "cell_type": "code",
   "execution_count": null,
   "metadata": {},
   "outputs": [],
   "source": [
    "def move_to_brush_change():\n",
    "    \"\"\"A wrapper function to move the robot to the j_brush_change joints configuration\"\"\"\n",
    "    print \"Moving to brush change position\"\n",
    "    r.movej(j_brush_change, acc=a, vel=v)\n",
    "\n",
    "#move_to_brush_change()  #uncomment and run cell to test the functions defined in this cell"
   ]
  },
  {
   "cell_type": "code",
   "execution_count": null,
   "metadata": {},
   "outputs": [],
   "source": [
    "def move_to_canvas_origin(stroke):\n",
    "    print \"Setting active coordinate system (csys) to canvas csys\"\n",
    "    r.set_csys(canvas_coordinates)\n",
    "    r.set_tcp(brush[stroke])\n",
    "    r.movel((0, 0, -hover, 0, 0, 0), acc=a/2, vel=v/3)\n",
    "\n",
    "def move_to_canvas_xaxis(stroke):\n",
    "    print \"Setting active coordinate system (csys) to canvas csys\"\n",
    "    r.set_csys(canvas_coordinates)\n",
    "    r.set_tcp(brush[stroke])\n",
    "    r.movel((0.75, 0, -hover, 0, 0, 0), acc=a/2, vel=v/3)    \n",
    "    \n",
    "def move_to_canvas_yaxis(stroke):\n",
    "    print \"Setting active coordinate system (csys) to canvas csys\"\n",
    "    r.set_csys(canvas_coordinates)\n",
    "    r.set_tcp(brush[stroke])\n",
    "    r.movel((0, 0.55, -hover, 0, 0, 0), acc=a/2, vel=v/3)\n",
    "\n",
    "    \n",
    "#move_to_canvas_origin('blue')    #uncomment and run cell to test the functions defined in this cell"
   ]
  },
  {
   "cell_type": "code",
   "execution_count": null,
   "metadata": {},
   "outputs": [],
   "source": [
    "def get_paint(stroke):\n",
    "    print \"    Fetching\", stroke, \"Paint:\"\n",
    "    \n",
    "    # stroke being the color string: eg 'red'\n",
    "    print \"      Setting active coordinate system (csys) to base csys\"\n",
    "    r.set_csys(m3d.Transform())\n",
    "\n",
    "    # TODO: check current position\n",
    "    print \"      Distance to pots:\", r._get_joints_dist(j_paint_above)\n",
    "\n",
    "    print \"      Getting new paint\"\n",
    "    #   Move with no brush selected to avoid extreme rotations of last joint\n",
    "    r.set_tcp((0, 0, 0.15, 0, 0, 0))\n",
    "    print \"      Moving to paint pot coordinate\"\n",
    "    r.movel(paint[stroke], acc=a, vel=v)\n",
    "    # TODO:  Measure color depth\n",
    "    \n",
    "    #   Select brush\n",
    "    r.set_tcp(brush[stroke])\n",
    "    r.movel(paint[stroke], acc=a, vel=v)\n",
    "    \n",
    "    #   Move into color\n",
    "    print \"      Moving into paint pot\"\n",
    "    r.down(z=paint_depth, acc=a, vel=v)\n",
    "    sleep(in_paint_duration)\n",
    "\n",
    "    print \"      Moving back to paint pot coordinate\"\n",
    "    r.up(z=paint_depth, acc=a, vel=v)\n",
    "    print \"      Waiting for color to drip off\"\n",
    "    sleep(drip_off_duration)\n",
    "    \n",
    "    print \"      Removing excess paint from tip of brush\"\n",
    "    radius = 0.018\n",
    "    circle = [m3d.Transform(m3d.Orientation.new_rot_z(i * np.pi / 6), (0, 0, 0)) * m3d.Vector(-radius, -radius, 0) for i in range(8)]\n",
    "    circle = [m3d.Transform((0, np.pi, 0), mesh[stroke] + c) for c in circle]\n",
    "    circle.append(m3d.Transform(paint[stroke]))\n",
    "    r.movels(circle, acc=a, vel=v/4)\n",
    "\n",
    "    \n",
    "#get_paint('beige')"
   ]
  },
  {
   "cell_type": "code",
   "execution_count": null,
   "metadata": {},
   "outputs": [],
   "source": [
    "def paint_path(path):\n",
    "    print \"      Setting active coordinate system (csys) to canvas csys\"\n",
    "    r.set_csys(canvas_coordinates)\n",
    "\n",
    "    # TODO: check current position\n",
    "    print \"      Distance to canvas:\", r._get_joints_dist(j_canvas_above)\n",
    "\n",
    "    print \"    Painting path\"\n",
    "    \n",
    "    j = 0 #subpath counter\n",
    "    \n",
    "    for sub in path.continuous_subpaths():\n",
    "        print '    SUB-PATH', j, '---------------------------------------------------------------'\n",
    "        print '        Length: %s mm' % (round(sub.length()))\n",
    "        print '        Number of segments', ': ', len(sub)\n",
    "        \n",
    "        r.movel((sub.start.real / 1e3, sub.start.imag / 1e3, -hover, 0, 0, 0), acc=a, vel=v)\n",
    "        poses = []\n",
    "        acc_dist = 0\n",
    "        \n",
    "        k = 0   #segment counter\n",
    "        for seg in sub:\n",
    "            if isinstance(seg, Line):\n",
    "                print \"        SEGMENT\", k, ':', 'Line (%s mm)' % (round(seg.length()))\n",
    "                print seg.start.real, seg.start.imag\n",
    "                poses.append((seg.start.real / 1e3, seg.start.imag / 1e3, offset + feed * acc_dist / 1e3, 0, 0, 0))\n",
    "                acc_dist += seg.length()\n",
    "            \n",
    "            elif isinstance(seg, Arc):\n",
    "                print \"        SEGMENT\", k, ':', 'Arc (%s mm) '% (round(seg.length())) , \"TODO: Arc is beta\"\n",
    "                #print \"TODO: Arc is not supported, Line is used\"\n",
    "                #poses.append((seg.start.real / 1e3, seg.start.imag / 1e3, offset + feed * acc_dist / 1e3, 0, 0, 0))\n",
    "                #print seg\n",
    "                \n",
    "                step = min(10.0 / seg.length(), 0.5) # one point everz 10mm but at least two points\n",
    "                points = [seg.point(t) for t in np.arange(0, 1, step)]\n",
    "                poses.extend([(p.real / 1e3, p.imag / 1e3, offset + feed * acc_dist / 1e3, 0, 0, 0) for p in points])\n",
    "                \n",
    "                #This interactive demo might help you understand the concepts behind SVG arcs: http://codepen.io/lingtalfi/pen/yaLWJG (tested in chrome and firefox only, might not work in your browser)\n",
    "                #print seg\n",
    "                #print poses\n",
    "                # TODO acc_dist should be incremented from point to point\n",
    "                \n",
    "            elif isinstance(seg, QuadraticBezier):\n",
    "                print \"        SEGMENT\", k, ':', 'QuadraticBezier (%s mm) '% (round(seg.length())) , \"TODO: QuadraticBezier is beta\"\n",
    "                step = min(10.0 / seg.length(), 0.5) # one point every 10mm but at least two points\n",
    "                points = [seg.point(t) for t in np.arange(0, 1, step)]\n",
    "                poses.extend([(p.real / 1e3, p.imag / 1e3, offset + feed * acc_dist / 1e3, 0, 0, 0) for p in points])\n",
    "                # TODO acc_dist should be incremented from point to point\n",
    "\n",
    "            elif isinstance(seg, CubicBezier):\n",
    "                print \"        SEGMENT\", k, ':', 'CubicBezier (%s mm) '% (round(seg.length())) , \"TODO: CubicBezier is beta\"\n",
    "                step = min(10.0 / seg.length(), 0.5) # one point everz 10mm but at least two points\n",
    "                points = [seg.point(t) for t in np.arange(0, 1, step)]\n",
    "                poses.extend([(p.real / 1e3, p.imag / 1e3, offset + feed * acc_dist / 1e3, 0, 0, 0) for p in points])\n",
    "                # TODO acc_dist should be incremented from point to point\n",
    "                \n",
    "            k+=1 #incrementing segment counter\n",
    "\n",
    "        poses.append((sub.end.real / 1e3, sub.end.imag / 1e3, offset, 0, 0, 0))\n",
    "        poses.append((sub.end.real / 1e3, sub.end.imag / 1e3, -hover, 0, 0, 0))        \n",
    "        r.movels(poses, acc=a, vel=v/4, radius = 0.00, threshold=0.001)\n",
    "        \n",
    "        j+=1 #incrementing subpath counter\n",
    "        \n",
    "    # If we are on left side of canvas move to safe position first\n",
    "    r.movel((0.6, 0.3, -hover, 0, 0, 0), acc=a, vel=v)"
   ]
  },
  {
   "cell_type": "code",
   "execution_count": null,
   "metadata": {},
   "outputs": [],
   "source": [
    "def paint_svg(paths, attributes):\n",
    "    i = 0 #path counter\n",
    "    print 'Total number of paths to be painted:', len(paths)\n",
    "    \n",
    "    for (path, attr) in zip(paths, attributes):\n",
    "        stroke = attr['stroke']\n",
    "        path_id = attr['id']\n",
    "        #paths_to_paint = ['polyline98'] # a list of strings containing path_id of paths to be painted\n",
    "        \n",
    "        if True: #stroke=='white'and path_id in paths_to_paint:  \n",
    "            print 'PATH', i, ', PATH ID:', path_id, ' Color:', stroke '-----------------------------------------------------------------------'\n",
    "            #print '    Path is closed:', path._closed\n",
    "            print '    Number of sub-paths:', len(path.continuous_subpaths())\n",
    "            \n",
    "            move_to_paint()\n",
    "            try:\n",
    "                get_paint(stroke)\n",
    "                move_to_canvas()\n",
    "                paint_path(path)\n",
    "            except Exception as e:\n",
    "                print \"ERROR:\", e\n",
    "                raw_input(\"Press enter to continue... \")\n",
    "            \n",
    "            # This is IMPORTANT to prevent embarassing smudges in the event a particular path fails and \n",
    "            # you resume painting after an exception is raised\n",
    "            r.movel((0.6, 0.3, -hover, 0, 0, 0), acc=a, vel=v)\n",
    "\n",
    "            i += 1 #incrementing path counter\n",
    "\n",
    "    print \"Hurray! Painting complete!\""
   ]
  },
  {
   "cell_type": "code",
   "execution_count": null,
   "metadata": {},
   "outputs": [],
   "source": [
    "paths_all, attributes_all = svg2paths('paintings/svg/peter_inkscape_Flame.svg')"
   ]
  },
  {
   "cell_type": "code",
   "execution_count": null,
   "metadata": {},
   "outputs": [],
   "source": [
    "#unpainted = [20]\n",
    "#paths = [paths_all[i] for i in range(5,26)]\n",
    "#attributes = [attributes_all[i] for i in range(5,26)\n",
    "#paint_svg(paths, attributes)\n",
    "\n",
    "num_paths = len(paths_all)\n",
    "paths = [paths_all[i] for i in range(num_paths)]  #range(num_paths)\n",
    "attributes = [attributes_all[i] for i in range(num_paths)]  #range(num_paths)\n",
    "paint_svg(paths, attributes)"
   ]
  },
  {
   "cell_type": "code",
   "execution_count": null,
   "metadata": {
    "scrolled": true
   },
   "outputs": [],
   "source": [
    "# This would be the full program\n",
    "\n",
    "try:\n",
    "    move_home()\n",
    "    paths, attributes = svg2paths('190905 JoPostmandarkblue.svg') #painting to paint       \n",
    "    #paths, attributes = svg2paths(sys.argv[1])\n",
    "    paint_svg(paths, attributes)\n",
    "except Exception as e:\n",
    "    print \"ERROR:\", e\n",
    "    raw_input(\"Press enter to continue... \")\n",
    "    \n",
    "\n",
    "move_to_canvas()\n",
    "move_home()\n",
    "\n",
    "#%%\n",
    "\n",
    "#r.stopj()\n",
    "#p = r.getl()\n",
    "#print \"Tool pose is: \", np.array(p)\n",
    "#print \"Robot joints: \", r.getj()\n",
    "\n",
    "#    r.secmon.close()\n",
    "#    r.rtmon.close()\n",
    "#    r = None\n",
    "#    sleep(2)"
   ]
  },
  {
   "cell_type": "code",
   "execution_count": null,
   "metadata": {},
   "outputs": [],
   "source": [
    "from IPython.display import SVG\n",
    "def show_svg():\n",
    "    return SVG(\"JoPostmangreen.svg\")\n",
    "\n",
    "show_svg()"
   ]
  },
  {
   "cell_type": "code",
   "execution_count": null,
   "metadata": {},
   "outputs": [],
   "source": [
    "# Always remember to close the communication to the robot and have not more than one instances running\n",
    "r.secmon.close()\n",
    "r.rtmon.close()\n",
    "r = None\n",
    "sleep(2)"
   ]
  }
 ],
 "metadata": {
  "kernelspec": {
   "display_name": "jpy3-bobRob2",
   "language": "python",
   "name": "jpy3-bobrob2"
  },
  "language_info": {
   "codemirror_mode": {
    "name": "ipython",
    "version": 2
   },
   "file_extension": ".py",
   "mimetype": "text/x-python",
   "name": "python",
   "nbconvert_exporter": "python",
   "pygments_lexer": "ipython2",
   "version": "2.7.18"
  }
 },
 "nbformat": 4,
 "nbformat_minor": 4
}
